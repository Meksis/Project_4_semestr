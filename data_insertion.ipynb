{
 "cells": [
  {
   "cell_type": "code",
   "execution_count": 9,
   "metadata": {},
   "outputs": [],
   "source": [
    "from DB_work import DB_ORM\n",
    "\n",
    "import streamlit as st\n",
    "import sqlite3 as sq\n",
    "import pyperclip\n",
    "import folium\n",
    "import json\n",
    "import os"
   ]
  },
  {
   "cell_type": "code",
   "execution_count": 10,
   "metadata": {},
   "outputs": [],
   "source": [
    "table_name = 'test_table'\n",
    "\n",
    "insert_route = 40\n",
    "insert_type = 'Трамвай'\n",
    "insert_path = 'K:\\Downloads\\Загрузки Яндекс\\map.geojson'"
   ]
  },
  {
   "cell_type": "code",
   "execution_count": 11,
   "metadata": {},
   "outputs": [],
   "source": [
    "DB_object = DB_ORM()"
   ]
  },
  {
   "cell_type": "code",
   "execution_count": 12,
   "metadata": {},
   "outputs": [],
   "source": [
    "def route_file_parser(path_to_file : str) -> list:\n",
    "    lines = []\n",
    "\n",
    "    with open(path_to_file, 'r') as temp:\n",
    "        loaded = json.loads(temp.read())['features']\n",
    "\n",
    "        loaded = loaded[::-1]\n",
    "\n",
    "        for line in loaded:\n",
    "            line = [points[::-1] for points in line['geometry']['coordinates']]\n",
    "            lines.append(line)\n",
    "\n",
    "    return(lines)"
   ]
  },
  {
   "cell_type": "code",
   "execution_count": 13,
   "metadata": {},
   "outputs": [],
   "source": [
    "# pyperclip.copy(str(route_file_parser('K:\\Downloads\\Загрузки Яндекс\\map.geojson')))"
   ]
  },
  {
   "cell_type": "code",
   "execution_count": 14,
   "metadata": {},
   "outputs": [
    {
     "data": {
      "text/plain": [
       "True"
      ]
     },
     "execution_count": 14,
     "metadata": {},
     "output_type": "execute_result"
    }
   ],
   "source": [
    "DB_object.execute(f\"INSERT INTO {table_name} VALUES ('{insert_route}', '{insert_type}', '{route_file_parser(insert_path)}')\", is_change = True)"
   ]
  }
 ],
 "metadata": {
  "kernelspec": {
   "display_name": "Python 3",
   "language": "python",
   "name": "python3"
  },
  "language_info": {
   "codemirror_mode": {
    "name": "ipython",
    "version": 3
   },
   "file_extension": ".py",
   "mimetype": "text/x-python",
   "name": "python",
   "nbconvert_exporter": "python",
   "pygments_lexer": "ipython3",
   "version": "3.10.8"
  },
  "orig_nbformat": 4,
  "vscode": {
   "interpreter": {
    "hash": "1ffdadc0d1415b19035eba2fd8fd9ccd276098cbb8bade42baf9c70e83fa5937"
   }
  }
 },
 "nbformat": 4,
 "nbformat_minor": 2
}
