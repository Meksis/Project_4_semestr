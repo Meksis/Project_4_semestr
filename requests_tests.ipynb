{
 "cells": [
  {
   "cell_type": "code",
   "execution_count": 148,
   "metadata": {},
   "outputs": [],
   "source": [
    "import streamlit as st\n",
    "import sqlite3 as sq\n",
    "import requests as rq\n",
    "import pandas as pd\n",
    "\n",
    "import folium\n",
    "import json\n",
    "import os"
   ]
  },
  {
   "attachments": {},
   "cell_type": "markdown",
   "metadata": {},
   "source": [
    "Запросы для маршрутов"
   ]
  },
  {
   "cell_type": "code",
   "execution_count": 149,
   "metadata": {
    "notebookRunGroups": {
     "groupValue": ""
    }
   },
   "outputs": [],
   "source": [
    "routes_from_to_url = 'http://irkbus.ru/php/getRoutes.php?city=irkutsk&info=12345&lang=ru&_=1686163028764'\n",
    "stations_url = 'http://irkbus.ru/php/getStations.php?city=irkutsk&info=12345&lang=ru&_=1686163028767'\n",
    "transport_tramvay_2_url = 'http://irkbus.ru/php/getVehicleForecasts.php?vid=868204005990253&type=0&city=irkutsk&info=12345&lang=ru&_=1686171778553'      # Если поймем, откуда брать vid, то это будет победа"
   ]
  },
  {
   "cell_type": "code",
   "execution_count": 157,
   "metadata": {},
   "outputs": [
    {
     "data": {
      "text/html": [
       "<div>\n",
       "<style scoped>\n",
       "    .dataframe tbody tr th:only-of-type {\n",
       "        vertical-align: middle;\n",
       "    }\n",
       "\n",
       "    .dataframe tbody tr th {\n",
       "        vertical-align: top;\n",
       "    }\n",
       "\n",
       "    .dataframe thead th {\n",
       "        text-align: right;\n",
       "    }\n",
       "</style>\n",
       "<table border=\"1\" class=\"dataframe\">\n",
       "  <thead>\n",
       "    <tr style=\"text-align: right;\">\n",
       "      <th></th>\n",
       "      <th>id</th>\n",
       "      <th>name</th>\n",
       "      <th>descr</th>\n",
       "      <th>lat</th>\n",
       "      <th>lng</th>\n",
       "      <th>type</th>\n",
       "    </tr>\n",
       "  </thead>\n",
       "  <tbody>\n",
       "    <tr>\n",
       "      <th>520</th>\n",
       "      <td>821</td>\n",
       "      <td>СНТ Багульник</td>\n",
       "      <td>в центр</td>\n",
       "      <td>52.272479</td>\n",
       "      <td>104.540013</td>\n",
       "      <td>0</td>\n",
       "    </tr>\n",
       "  </tbody>\n",
       "</table>\n",
       "</div>"
      ],
      "text/plain": [
       "      id           name    descr        lat         lng type\n",
       "520  821  СНТ Багульник  в центр  52.272479  104.540013    0"
      ]
     },
     "execution_count": 157,
     "metadata": {},
     "output_type": "execute_result"
    }
   ],
   "source": [
    "stations_data[stations_data['id'] == 821]"
   ]
  },
  {
   "cell_type": "code",
   "execution_count": 150,
   "metadata": {
    "notebookRunGroups": {
     "groupValue": "1"
    }
   },
   "outputs": [],
   "source": [
    "response = rq.get(stations_url)\n",
    "stations_data = pd.DataFrame.from_dict(json.loads(response.text) if response.status_code == 200 else False).sort_values(by = 'id')"
   ]
  },
  {
   "cell_type": "code",
   "execution_count": 151,
   "metadata": {
    "notebookRunGroups": {
     "groupValue": "1"
    }
   },
   "outputs": [],
   "source": [
    "response = rq.get(routes_from_to_url)\n",
    "routes_from_to_data = pd.DataFrame.from_dict(json.loads(response.text) if response.status_code == 200 else False).replace('Тр', 'Трамвай').replace('А', 'Автобус').replace('Т', 'Троллейбус').sort_values(by = 'id').reset_index().drop('index', axis = 1)"
   ]
  },
  {
   "cell_type": "code",
   "execution_count": 152,
   "metadata": {
    "notebookRunGroups": {
     "groupValue": "1"
    }
   },
   "outputs": [],
   "source": [
    "class Routes():\n",
    "    def __init__(self,  routes_df : pd.DataFrame, stations_df : pd.DataFrame):\n",
    "        self.routes_df =  routes_df\n",
    "        self.stations_df =  stations_df\n",
    "\n",
    "\n",
    "        self.routes_names_constraints = {'Avtobus_' : 'Автобус', ' Троллейбус' : 'Троллейбус'}\n",
    "\n",
    "        self.routes_df.name = self.routes_df.name.apply(self.routes_names_correcter)\n",
    "        stations_df.lat = stations_df.lat.apply(self.stations_cords_correcter)\n",
    "        stations_df.lng = stations_df.lng.apply(self.stations_cords_correcter)\n",
    "\n",
    "    def routes_names_correcter(self, name : str) -> str:\n",
    "        for constraint in self.routes_names_constraints:\n",
    "            if constraint in name:\n",
    "                if constraint == None:\n",
    "                    return('НЕ НАЙДЕНО')\n",
    "                \n",
    "                name = list(name)\n",
    "                for let in constraint:\n",
    "                    name.remove(let)\n",
    "                \n",
    "                name = ''.join(name) + f'_{self.routes_names_constraints[constraint]}'\n",
    "\n",
    "        return(name)\n",
    "    \n",
    "    def stations_cords_correcter(self, cords : int) -> float:\n",
    "        cords = str(cords)\n",
    "        cords = list(cords)\n",
    "\n",
    "        if '.' not in cords:\n",
    "            if cords[0] == '1':\n",
    "                cords.insert(3, '.')\n",
    "                cords = float(''.join(cords))\n",
    "            \n",
    "            else:\n",
    "                cords.insert(2, '.')\n",
    "                cords = float(''.join(cords))\n",
    "        \n",
    "        return(cords)\n",
    "\n",
    "\n",
    "\n",
    "    def route_data(self, route_name : str) -> pd.DataFrame:\n",
    "        try:\n",
    "            return(self.routes_df[self.routes_df['name'] == route_name])\n",
    "        \n",
    "        except:\n",
    "            return(False)\n",
    "        \n",
    "    \n",
    "    # def get_stations(self, route_name : str) -> list:\n",
    "    #     # print(self.routes_df[self.routes_df['name'] == route_name][['id', 'name', 'type', 'num', 'fromst', 'fromstid', 'tost', 'tostid']])\n",
    "    #     try:\n",
    "    #         return(self.routes_df[['id', 'name', 'type', 'num', 'fromst', 'fromstid', 'tost', 'tostid'], self.routes_df['name'] == route_name])\n",
    "        \n",
    "    #     except:\n",
    "    #         return(False)"
   ]
  },
  {
   "attachments": {},
   "cell_type": "markdown",
   "metadata": {},
   "source": [
    "---"
   ]
  },
  {
   "cell_type": "code",
   "execution_count": 153,
   "metadata": {
    "notebookRunGroups": {
     "groupValue": "2"
    }
   },
   "outputs": [],
   "source": [
    "routes_manipulator = Routes(routes_from_to_data, stations_data)"
   ]
  },
  {
   "cell_type": "code",
   "execution_count": 154,
   "metadata": {
    "notebookRunGroups": {
     "groupValue": "2"
    }
   },
   "outputs": [
    {
     "data": {
      "text/html": [
       "<div>\n",
       "<style scoped>\n",
       "    .dataframe tbody tr th:only-of-type {\n",
       "        vertical-align: middle;\n",
       "    }\n",
       "\n",
       "    .dataframe tbody tr th {\n",
       "        vertical-align: top;\n",
       "    }\n",
       "\n",
       "    .dataframe thead th {\n",
       "        text-align: right;\n",
       "    }\n",
       "</style>\n",
       "<table border=\"1\" class=\"dataframe\">\n",
       "  <thead>\n",
       "    <tr style=\"text-align: right;\">\n",
       "      <th></th>\n",
       "      <th>id</th>\n",
       "      <th>name</th>\n",
       "      <th>type</th>\n",
       "      <th>num</th>\n",
       "      <th>fromst</th>\n",
       "      <th>fromstid</th>\n",
       "      <th>tost</th>\n",
       "      <th>tostid</th>\n",
       "    </tr>\n",
       "  </thead>\n",
       "  <tbody>\n",
       "    <tr>\n",
       "      <th>22</th>\n",
       "      <td>13</td>\n",
       "      <td>1Усолье</td>\n",
       "      <td>Трамвай</td>\n",
       "      <td>1</td>\n",
       "      <td>Трампарк</td>\n",
       "      <td>137</td>\n",
       "      <td>9 столовая</td>\n",
       "      <td>133</td>\n",
       "    </tr>\n",
       "    <tr>\n",
       "      <th>24</th>\n",
       "      <td>14</td>\n",
       "      <td>1Усолье</td>\n",
       "      <td>Трамвай</td>\n",
       "      <td>1</td>\n",
       "      <td>9 столовая</td>\n",
       "      <td>133</td>\n",
       "      <td>Трампарк</td>\n",
       "      <td>128</td>\n",
       "    </tr>\n",
       "  </tbody>\n",
       "</table>\n",
       "</div>"
      ],
      "text/plain": [
       "    id     name     type num      fromst  fromstid        tost  tostid\n",
       "22  13  1Усолье  Трамвай   1    Трампарк       137  9 столовая     133\n",
       "24  14  1Усолье  Трамвай   1  9 столовая       133    Трампарк     128"
      ]
     },
     "execution_count": 154,
     "metadata": {},
     "output_type": "execute_result"
    }
   ],
   "source": [
    "routes_manipulator.route_data('1Усолье')"
   ]
  },
  {
   "cell_type": "code",
   "execution_count": 155,
   "metadata": {},
   "outputs": [
    {
     "data": {
      "text/html": [
       "<div>\n",
       "<style scoped>\n",
       "    .dataframe tbody tr th:only-of-type {\n",
       "        vertical-align: middle;\n",
       "    }\n",
       "\n",
       "    .dataframe tbody tr th {\n",
       "        vertical-align: top;\n",
       "    }\n",
       "\n",
       "    .dataframe thead th {\n",
       "        text-align: right;\n",
       "    }\n",
       "</style>\n",
       "<table border=\"1\" class=\"dataframe\">\n",
       "  <thead>\n",
       "    <tr style=\"text-align: right;\">\n",
       "      <th></th>\n",
       "      <th>id</th>\n",
       "      <th>name</th>\n",
       "      <th>descr</th>\n",
       "      <th>lat</th>\n",
       "      <th>lng</th>\n",
       "      <th>type</th>\n",
       "    </tr>\n",
       "  </thead>\n",
       "  <tbody>\n",
       "    <tr>\n",
       "      <th>826</th>\n",
       "      <td>1</td>\n",
       "      <td>Степана Разина</td>\n",
       "      <td>в сторону ж/д вокзала</td>\n",
       "      <td>52.283020</td>\n",
       "      <td>104.277680</td>\n",
       "      <td>1</td>\n",
       "    </tr>\n",
       "    <tr>\n",
       "      <th>44</th>\n",
       "      <td>1</td>\n",
       "      <td>Аэропорт</td>\n",
       "      <td>конечная 4 троллейбуса</td>\n",
       "      <td>52.273956</td>\n",
       "      <td>104.355826</td>\n",
       "      <td>0</td>\n",
       "    </tr>\n",
       "    <tr>\n",
       "      <th>503</th>\n",
       "      <td>2</td>\n",
       "      <td>Сквер им. Кирова</td>\n",
       "      <td>в сторону ул. Карла Маркса</td>\n",
       "      <td>52.285909</td>\n",
       "      <td>104.282473</td>\n",
       "      <td>0</td>\n",
       "    </tr>\n",
       "    <tr>\n",
       "      <th>825</th>\n",
       "      <td>2</td>\n",
       "      <td>Степана Разина</td>\n",
       "      <td>в сторону центрального рынка</td>\n",
       "      <td>52.283472</td>\n",
       "      <td>104.277002</td>\n",
       "      <td>1</td>\n",
       "    </tr>\n",
       "    <tr>\n",
       "      <th>748</th>\n",
       "      <td>3</td>\n",
       "      <td>Художественный музей</td>\n",
       "      <td>в сторону пл. Кирова</td>\n",
       "      <td>52.283113</td>\n",
       "      <td>104.280979</td>\n",
       "      <td>0</td>\n",
       "    </tr>\n",
       "    <tr>\n",
       "      <th>...</th>\n",
       "      <td>...</td>\n",
       "      <td>...</td>\n",
       "      <td>...</td>\n",
       "      <td>...</td>\n",
       "      <td>...</td>\n",
       "      <td>...</td>\n",
       "    </tr>\n",
       "    <tr>\n",
       "      <th>603</th>\n",
       "      <td>1028</td>\n",
       "      <td>СНТ Радуга-2</td>\n",
       "      <td>из города</td>\n",
       "      <td>52.102024</td>\n",
       "      <td>104.343842</td>\n",
       "      <td>0</td>\n",
       "    </tr>\n",
       "    <tr>\n",
       "      <th>604</th>\n",
       "      <td>1029</td>\n",
       "      <td>СНТ Радуга-2</td>\n",
       "      <td>в город</td>\n",
       "      <td>52.101687</td>\n",
       "      <td>104.344614</td>\n",
       "      <td>0</td>\n",
       "    </tr>\n",
       "    <tr>\n",
       "      <th>576</th>\n",
       "      <td>1030</td>\n",
       "      <td>СНТ Минерал</td>\n",
       "      <td>из города</td>\n",
       "      <td>52.093745</td>\n",
       "      <td>104.352436</td>\n",
       "      <td>0</td>\n",
       "    </tr>\n",
       "    <tr>\n",
       "      <th>577</th>\n",
       "      <td>1031</td>\n",
       "      <td>СНТ Минерал</td>\n",
       "      <td>в город</td>\n",
       "      <td>52.093350</td>\n",
       "      <td>104.353004</td>\n",
       "      <td>0</td>\n",
       "    </tr>\n",
       "    <tr>\n",
       "      <th>630</th>\n",
       "      <td>1032</td>\n",
       "      <td>СНТ Фотон</td>\n",
       "      <td></td>\n",
       "      <td>52.057266</td>\n",
       "      <td>104.370396</td>\n",
       "      <td>0</td>\n",
       "    </tr>\n",
       "  </tbody>\n",
       "</table>\n",
       "<p>961 rows × 6 columns</p>\n",
       "</div>"
      ],
      "text/plain": [
       "       id                  name                         descr        lat   \n",
       "826     1        Степана Разина         в сторону ж/д вокзала  52.283020  \\\n",
       "44      1              Аэропорт        конечная 4 троллейбуса  52.273956   \n",
       "503     2      Сквер им. Кирова    в сторону ул. Карла Маркса  52.285909   \n",
       "825     2        Степана Разина  в сторону центрального рынка  52.283472   \n",
       "748     3  Художественный музей          в сторону пл. Кирова  52.283113   \n",
       "..    ...                   ...                           ...        ...   \n",
       "603  1028          СНТ Радуга-2                     из города  52.102024   \n",
       "604  1029          СНТ Радуга-2                       в город  52.101687   \n",
       "576  1030           СНТ Минерал                     из города  52.093745   \n",
       "577  1031           СНТ Минерал                       в город  52.093350   \n",
       "630  1032             СНТ Фотон                                52.057266   \n",
       "\n",
       "            lng type  \n",
       "826  104.277680    1  \n",
       "44   104.355826    0  \n",
       "503  104.282473    0  \n",
       "825  104.277002    1  \n",
       "748  104.280979    0  \n",
       "..          ...  ...  \n",
       "603  104.343842    0  \n",
       "604  104.344614    0  \n",
       "576  104.352436    0  \n",
       "577  104.353004    0  \n",
       "630  104.370396    0  \n",
       "\n",
       "[961 rows x 6 columns]"
      ]
     },
     "execution_count": 155,
     "metadata": {},
     "output_type": "execute_result"
    }
   ],
   "source": [
    "routes_manipulator.stations_df"
   ]
  }
 ],
 "metadata": {
  "kernelspec": {
   "display_name": "Python 3",
   "language": "python",
   "name": "python3"
  },
  "language_info": {
   "codemirror_mode": {
    "name": "ipython",
    "version": 3
   },
   "file_extension": ".py",
   "mimetype": "text/x-python",
   "name": "python",
   "nbconvert_exporter": "python",
   "pygments_lexer": "ipython3",
   "version": "3.10.8"
  },
  "orig_nbformat": 4
 },
 "nbformat": 4,
 "nbformat_minor": 2
}
